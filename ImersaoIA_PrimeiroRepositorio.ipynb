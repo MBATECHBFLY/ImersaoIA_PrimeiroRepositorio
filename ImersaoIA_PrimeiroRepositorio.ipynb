{
  "nbformat": 4,
  "nbformat_minor": 0,
  "metadata": {
    "colab": {
      "provenance": [],
      "authorship_tag": "ABX9TyOoZxCdxP8ZR4ZpfFpvVSfL",
      "include_colab_link": true
    },
    "kernelspec": {
      "name": "python3",
      "display_name": "Python 3"
    },
    "language_info": {
      "name": "python"
    }
  },
  "cells": [
    {
      "cell_type": "markdown",
      "metadata": {
        "id": "view-in-github",
        "colab_type": "text"
      },
      "source": [
        "<a href=\"https://colab.research.google.com/github/MBATECHBFLY/ImersaoIA_PrimeiroRepositorio/blob/main/ImersaoIA_PrimeiroRepositorio.ipynb\" target=\"_parent\"><img src=\"https://colab.research.google.com/assets/colab-badge.svg\" alt=\"Open In Colab\"/></a>"
      ]
    },
    {
      "cell_type": "code",
      "execution_count": 2,
      "metadata": {
        "colab": {
          "base_uri": "https://localhost:8080/",
          "height": 367
        },
        "id": "ZUF11DI750hV",
        "outputId": "ee1728b3-2fe2-402b-96a2-90fe4a5664c2"
      },
      "outputs": [
        {
          "output_type": "stream",
          "name": "stdout",
          "text": [
            "É compreensível que você esteja buscando informações sobre o inventário da casa dos seus pais. É um processo importante, mas lidar com questões legais e burocráticas pode ser desafiador. \n",
            "\n",
            "Para te ajudar da melhor maneira possível, preciso entender melhor a sua situação. Você poderia me responder algumas perguntas? \n",
            "\n",
            "* **Seus pais faleceram?** \n",
            "* **Eles deixaram um testamento?**\n",
            "* **Existem outros herdeiros além de você?**\n",
            "* **A casa está localizada no Brasil?** \n",
            "\n",
            "Com essas informações, posso te guiar de forma mais precisa sobre os próximos passos. \n",
            "\n",
            "Enquanto isso, algumas informações gerais podem ser úteis:\n",
            "\n",
            "* **O inventário é obrigatório** para definir a partilha de bens de pessoas falecidas.\n",
            "* Ele pode ser **judicial ou extrajudicial**, dependendo da situação.\n",
            "* É **altamente recomendável** contar com a ajuda de um advogado especialista em direito sucessório.\n",
            "\n",
            "Lembre-se, este chatbot não substitui a consulta com um profissional, mas estou aqui para te auxiliar a dar os primeiros passos! \n",
            "\n"
          ]
        }
      ],
      "source": [
        "\"\"\"\n",
        "At the command line, only need to run once to install the package via pip:\n",
        "\n",
        "$ pip install google-generativeai\n",
        "\"\"\"\n",
        "\n",
        "import google.generativeai as genai\n",
        "from google.colab import userdata\n",
        "api_key = userdata.get('SECRET_KEY')\n",
        "genai.configure(api_key=api_key)\n",
        "\n",
        "# Set up the model\n",
        "generation_config = {\n",
        "  \"temperature\": 1,\n",
        "  \"top_p\": 0.95,\n",
        "  \"top_k\": 0,\n",
        "  \"max_output_tokens\": 8192,\n",
        "}\n",
        "\n",
        "safety_settings = [\n",
        "  {\n",
        "    \"category\": \"HARM_CATEGORY_HARASSMENT\",\n",
        "    \"threshold\": \"BLOCK_MEDIUM_AND_ABOVE\"\n",
        "  },\n",
        "  {\n",
        "    \"category\": \"HARM_CATEGORY_HATE_SPEECH\",\n",
        "    \"threshold\": \"BLOCK_MEDIUM_AND_ABOVE\"\n",
        "  },\n",
        "  {\n",
        "    \"category\": \"HARM_CATEGORY_SEXUALLY_EXPLICIT\",\n",
        "    \"threshold\": \"BLOCK_MEDIUM_AND_ABOVE\"\n",
        "  },\n",
        "  {\n",
        "    \"category\": \"HARM_CATEGORY_DANGEROUS_CONTENT\",\n",
        "    \"threshold\": \"BLOCK_MEDIUM_AND_ABOVE\"\n",
        "  },\n",
        "]\n",
        "\n",
        "model = genai.GenerativeModel(model_name=\"gemini-1.5-pro-latest\",\n",
        "                              generation_config=generation_config,\n",
        "                              safety_settings=safety_settings)\n",
        "\n",
        "convo = model.start_chat(history=[\n",
        "  {\n",
        "    \"role\": \"user\",\n",
        "    \"parts\": [\"Você é um\\ndesenvolvedor de chatbot e precisa criar um chat bot de atendimento rápido para\\no site de uma startup. A startup chama-se AdvogaAí\\nInformações sobre a startup: Dor que resolve: Falta de acesso à justiça: muitos\\nbrasileiros enfrentam dificuldades significativas para acessar o sistema\\njudiciário, seja por falta de recursos financeiros para contratar um advogado,\\npela falta de informação sobre seus direitos ou pelos obstáculos burocráticos\\nque encontram para fazer uma reclamação. ● Morosidade: o sistema judiciário\\nbrasileiro é conhecido por ser lento, e muitos brasileiros esperam anos para\\nque suas reclamações sejam resolvidas, especialmente em casos civis e\\ntrabalhistas. ● Leis complexas: As leis no Brasil são conhecidas por sua\\ncomplexidade, com uma quantidade excessiva de normas e regulamentações que\\npodem dificultar o entendimento e a aplicação das leis pelos cidadãos comuns e\\naté mesmo por profissionais do direito. Isso pode levar a erros na\\ninterpretação e aplicação da lei, além de aumentar a burocracia e os custos\\npara as empresas e indivíduos que precisam cumprir as leis e regulamentações. ●\\nConfiança: Por ser uma relação de confiança entre cliente e advogado, tem\\nmuitos clientes que só desejam tirar dúvidas e no final não tem retorno\\nfinanceiro para o profissional. ● Tribunal de Ética da OAB (Ordem dos Advogados\\ndo Brasil): Advogados não sentem muita aceitação do tribunal de ética da OAB\\npois a OAB restringe muito a questão da publicidade para os advogados. ● Não\\naceitação: Um grupo de WhatsApp que tem 300 advogados, ninguém faz uso desses\\napps que já existem por preconceito. Mercado: Ao iniciar o ano de 2022, a\\nJustiça do Trabalho contava com 2.808.497novos casos (Fonte: Tribunal Superior\\ndo Trabalho)\\nhttps://www.tst.jus.br/web/estatistica/jt/relatorio-geral#:~:text=Ao%20iniciar%20o%20ano%20de,.497%20deles%2C%20Casos%20Novos.\\nExiste 1 advogado para cada 164 pessoas no Brasil\\nhttps://www.bbc.com/portuguese/articles/cl52ql8y1jgo.amp Até 03 de outubro de\\n2023 havia 1.363.852 advogados e 12.791 estagiários. (Fonte: OAB) Fonte:\\nhttps://www.oab.org.br/institucionalconselhofederal/quadroadvogados 98% dos\\nprocessos trabalhistas de todo planeta estão no Brasil (Fonte:Jusbrasil)\\nwww.jusbrasil.com.br/noticias/98-dos-processos-trabalhistas-de-todo-o-planeta-estao-no-brasil/458885251\\nAdvocacia trabalhista. O direito trabalhista é um dos ramos com a maior demanda\\npara advogados e advogadas, que promete continuar crescendo nos próximos anos\\ndevido às últimas alterações na legislação trabalhista.21 de jun. de 2023\\nFonte:\\nhttps://br.indeed.com/conselho-de-carreira/encontrando-emprego/areas-advocacia-em-alta\\nNo Brasil mais de 1,6 milhão de pessoas acessam a plataforma JUSBRASIL\\ndiariamente e mais de 900 mil advogados utilizam seus produtos. (Fonte: site\\nJUSBRASIL) Mais de 31 milhões de casos novos ingressaram em todos os ramos de\\nJustiça em 2022 fonte:\\nhttps://www.trt4.jus.br/portais/trt4/modulos/noticias/580945 Solução - Uma\\nplataforma de advogados pode atender a diversos mercados e necessidades legais,\\nlevando acesso à Justiça para Grupos Vulneráveis e Advogados formados\\ndivulgando seu trabalho para o público alvo que atende. Protótipo:\\nhttps://www.figma.com/file/jB9bSoEs7Bue9bBI3xwDeK/Landify---Landing-Page-UI-Kit-v2-(Community)?type=design&node-id=0-1&mode=design\\nValidações - Evidências da viabilidade do negócio: Validando o problema TAM SAM\\nE SOM: Pesquisa realizada pelo nosso time com pessoas acima de 18 anos, do sexo\\nmasculino e feminino, residentes nos estados de SP e MG, com renda familiar\\nvariada apontou: 75,6% dos participantes já tiveram o desejo de iniciar um\\nprocesso judicial 28,9% alega ter baixo conhecimento sobre seus direitos 53,3%\\ndesconhece o funcionamento do juizado de pequenas causas O direito trabalhista\\né um dos ramos com a maior demanda para advogados, que promete continuar\\ncrescendo nos próximos anos devido às últimas alterações na legislação\\ntrabalhista. Fonte:\\nhttps://br.indeed.com/conselho-de-carreira/encontrando-emprego/areas-advocacia-em-alt\\nEscala Financeira apontou Break Even entre 2 e 3: https://youtu.be/W_seeMFpg-I\\nRoadmap - roadmap de produto:\\nhttps://miro.com/welcomeonboard/UFBFdFg0SU9ORnV2SnZEMk9hZXRCMjBwbFY1UVFMcTVyb1dDUWc1Szc0RWxwV0I2czkxVG1RdEZKYnY0VzBjVXwzNDU4NzY0NTI2OTU2MDY0NDI5fDI=?share_link_id=935880972779\"]\n",
        "  },\n",
        "  {\n",
        "    \"role\": \"model\",\n",
        "    \"parts\": [\"## Chatbot AdvogaAí - Conectando você à justiça! ⚖️\\n\\nCom base nas informações fornecidas, desenvolvi um chatbot para a AdvogaAí, com foco em atendimento rápido e eficiente, abordando as dores do público-alvo. \\n\\n**Funcionalidades:**\\n\\n* **Boas-vindas e breve apresentação da AdvogaAí:**\\n    * \\\"Olá! Seja bem-vindo(a) à AdvogaAí, a plataforma que te conecta à justiça de forma rápida e fácil.\\\"\\n* **Identificação da necessidade do usuário:**\\n    * \\\"Em que podemos te ajudar? \\n        * Buscar um advogado especialista?\\\"\\n        * Entender meus direitos?\\\"\\n        * Esclarecer dúvidas sobre o funcionamento da justiça?\\\"\\n        * Outros\\\"\\n* **Fluxos de conversa personalizados:**\\n    * **Buscar um advogado:**\\n        *  \\\"Qual a sua área de necessidade? (Ex: Trabalhista, Civil, Família)\\\"\\n        * \\\"Qual a sua localização?\\\"\\n        * Apresentação de advogados cadastrados na plataforma, com base na área de atuação e localização.\\n        * Opção de agendamento de consulta online ou presencial.\\n    * **Entender meus direitos:**\\n        * \\\"Qual a sua área de dúvida? (Ex: Trabalho, Consumidor, Família)\\\"\\n        * Direcionamento para artigos informativos, legislação e perguntas frequentes, com linguagem clara e acessível.\\n    * **Esclarecer dúvidas sobre o funcionamento da justiça:**\\n        * \\\"Qual a sua dúvida específica? (Ex: Como funciona um processo?, Quais os prazos?, Quais os custos?)\\\"\\n        * Respostas claras e concisas, com links para fontes confiáveis, como o site do Tribunal de Justiça. \\n    * **Outros:**\\n        * Campo de texto livre para o usuário digitar sua dúvida ou necessidade.\\n        * Direcionamento para um atendente humano, caso o chatbot não consiga solucionar a questão. \\n* **Recursos adicionais:**\\n    * **FAQ:** Seção com perguntas frequentes e respostas rápidas.\\n    * **Glossário:** Explicação de termos jurídicos em linguagem simples.\\n    * **Integração com WhatsApp:** Possibilidade de continuar a conversa em outro canal. \\n\\n**Linguagem e tom de voz:**\\n\\n*  A linguagem será amigável, acolhedora e acessível, evitando jargões jurídicos complexos. \\n*  O tom de voz será profissional, mas com empatia e atenção às necessidades do usuário.\\n\\n**Considerações importantes:**\\n\\n* O chatbot será constantemente atualizado com novas informações e funcionalidades.\\n* É importante integrar o chatbot com outras ferramentas da plataforma AdvogaAí, como o sistema de agendamento de consultas e o cadastro de advogados.\\n* A segurança das informações fornecidas pelos usuários será prioridade, com medidas adequadas de proteção de dados. \\n\\n**Diferenciais do Chatbot AdvogaAí:**\\n\\n* **Foco na resolução das dores do público:** Acesso à justiça, morosidade, complexidade das leis e falta de confiança.\\n* **Linguagem clara, objetiva e acessível.**\\n* **Funcionalidades que facilitam a vida do usuário:** Busca de advogados, esclarecimento de dúvidas, agendamento de consultas.\\n\\nCom este chatbot, a AdvogaAí poderá oferecer um atendimento rápido, eficiente e humanizado, tornando o acesso à justiça mais fácil e democrático.\"]\n",
        "  },\n",
        "])\n",
        "\n",
        "convo.send_message(\"O que preciso para fazer o inventário para a casa dos meus pais?\")\n",
        "print(convo.last.text)"
      ]
    },
    {
      "cell_type": "code",
      "source": [
        "convo.send_message(\"o que fazer quando quero pensão alimentícia?\")\n",
        "print(convo.last.text)"
      ],
      "metadata": {
        "colab": {
          "base_uri": "https://localhost:8080/",
          "height": 402
        },
        "id": "4ck1GXyg6WzQ",
        "outputId": "f349d751-469e-4dd2-e022-f674de3addaf"
      },
      "execution_count": 3,
      "outputs": [
        {
          "output_type": "stream",
          "name": "stdout",
          "text": [
            "Entendo que você esteja buscando informações sobre pensão alimentícia. É um direito importante e estou aqui para te ajudar a entender melhor como proceder. \n",
            "\n",
            "Para te guiar de forma mais precisa, preciso entender melhor a sua situação. Você poderia me responder algumas perguntas?\n",
            "\n",
            "* **Para quem você busca a pensão alimentícia?** (Ex: Filho(a), Ex-cônjuge, Pais)\n",
            "* **Qual a sua relação com a pessoa que você deseja que pague a pensão?**\n",
            "* **Você já tentou um acordo amigável sobre o pagamento da pensão?**\n",
            "\n",
            "Com essas informações, posso te dar um panorama mais completo sobre seus direitos e como prosseguir. \n",
            "\n",
            "Enquanto isso, algumas informações importantes:\n",
            "\n",
            "* **A pensão alimentícia é um direito** de quem precisa de auxílio para se sustentar, seja por ser criança/adolescente, seja por incapacidade de prover o próprio sustento.\n",
            "* **Ela pode ser solicitada por meio de um advogado**, que irá entrar com a ação judicial.\n",
            "* **É possível buscar a pensão alimentícia mesmo sem um acordo prévio**, mas a tentativa de acordo amigável pode facilitar o processo.\n",
            "* **Em casos de urgência**, é possível pedir ao juiz a concessão de **alimentos provisórios**.\n",
            "\n",
            "Lembre-se: Este chatbot não substitui a consulta com um advogado. Busque a orientação de um profissional para receber auxílio completo e adequado à sua situação. 😉 \n",
            "\n",
            "Espero ter ajudado com as primeiras informações. Responda às perguntas para que eu possa te auxiliar melhor! \n",
            "\n"
          ]
        }
      ]
    }
  ]
}